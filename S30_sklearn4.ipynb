{
  "nbformat": 4,
  "nbformat_minor": 0,
  "metadata": {
    "colab": {
      "provenance": []
    },
    "kernelspec": {
      "name": "python3",
      "display_name": "Python 3"
    },
    "language_info": {
      "name": "python"
    }
  },
  "cells": [
    {
      "cell_type": "markdown",
      "source": [
        "# Pipeline\n",
        "\n",
        "*   Steps involved:\n",
        "\n",
        "1. Gathering of data\n",
        "2. Data preprocessing\n",
        "3. Train and test model\n",
        "4. Evaluate (accuracy, etc.)\n",
        "\n",
        "*   **Example:** Scaling the data -> PCA -> Decision Tree Algorithm\n",
        "\n",
        "* We do this using **sklearn.pipeline**. This package takes in two important parameters:\n",
        "\n",
        "1.   Steplist (name, model) (Example: (scale, StandardScalar)\n",
        "2.   Verbose = (T / F)\n",
        "\n",
        "\n",
        "\n"
      ],
      "metadata": {
        "id": "HEb18vgA6q58"
      }
    },
    {
      "cell_type": "code",
      "execution_count": null,
      "metadata": {
        "id": "3xejsHYJ6nH-"
      },
      "outputs": [],
      "source": [
        "from sklearn import datasets\n",
        "from sklearn.model_selection import train_test_split\n",
        "from sklearn.preprocessing import StandardScaler\n",
        "from sklearn.tree import DecisionTreeClassifier\n",
        "from sklearn.metrics import accuracy_score\n",
        "from sklearn.pipeline import Pipeline\n",
        "from sklearn.decomposition import PCA"
      ]
    },
    {
      "cell_type": "code",
      "source": [
        "iris = datasets.load_iris()\n",
        "x = iris.data\n",
        "y = iris.target\n",
        "x_train, x_test, y_train, y_test = train_test_split(x, y, test_size=0.25, random_state=42)\n",
        "pipe = Pipeline([('std', StandardScaler()), ('pca', PCA(n_components = 2)), ('decision_tree', DecisionTreeClassifier())], verbose=True)\n",
        "pipe.fit(x_train, y_train)\n",
        "y_pred = pipe.predict(x_test)\n",
        "accuracy = accuracy_score(y_test, y_pred)\n",
        "print(\"Accuracy: \", accuracy)"
      ],
      "metadata": {
        "colab": {
          "base_uri": "https://localhost:8080/"
        },
        "id": "znlmuFZn9SUK",
        "outputId": "4189008d-d6be-405b-dbba-f260f5d94936"
      },
      "execution_count": null,
      "outputs": [
        {
          "output_type": "stream",
          "name": "stdout",
          "text": [
            "[Pipeline] ............... (step 1 of 3) Processing std, total=   0.0s\n",
            "[Pipeline] ............... (step 2 of 3) Processing pca, total=   0.0s\n",
            "[Pipeline] ..... (step 3 of 3) Processing decision_tree, total=   0.0s\n",
            "Accuracy:  0.9473684210526315\n"
          ]
        }
      ]
    },
    {
      "cell_type": "code",
      "source": [
        "from pprint import pprint\n",
        "print(pipe.named_steps)\n",
        "print(pipe.named_steps['pca'])\n",
        "\n",
        "print(\"Get Params: \")\n",
        "pprint(pipe.get_params())"
      ],
      "metadata": {
        "colab": {
          "base_uri": "https://localhost:8080/"
        },
        "id": "Hlc4UVmE-5X2",
        "outputId": "62ab053b-f988-42ff-e45e-744dfd832f7d"
      },
      "execution_count": null,
      "outputs": [
        {
          "output_type": "stream",
          "name": "stdout",
          "text": [
            "{'std': StandardScaler(), 'pca': PCA(n_components=2), 'decision_tree': DecisionTreeClassifier()}\n",
            "PCA(n_components=2)\n",
            "Get Params: \n",
            "{'decision_tree': DecisionTreeClassifier(),\n",
            " 'decision_tree__ccp_alpha': 0.0,\n",
            " 'decision_tree__class_weight': None,\n",
            " 'decision_tree__criterion': 'gini',\n",
            " 'decision_tree__max_depth': None,\n",
            " 'decision_tree__max_features': None,\n",
            " 'decision_tree__max_leaf_nodes': None,\n",
            " 'decision_tree__min_impurity_decrease': 0.0,\n",
            " 'decision_tree__min_samples_leaf': 1,\n",
            " 'decision_tree__min_samples_split': 2,\n",
            " 'decision_tree__min_weight_fraction_leaf': 0.0,\n",
            " 'decision_tree__monotonic_cst': None,\n",
            " 'decision_tree__random_state': None,\n",
            " 'decision_tree__splitter': 'best',\n",
            " 'memory': None,\n",
            " 'pca': PCA(n_components=2),\n",
            " 'pca__copy': True,\n",
            " 'pca__iterated_power': 'auto',\n",
            " 'pca__n_components': 2,\n",
            " 'pca__n_oversamples': 10,\n",
            " 'pca__power_iteration_normalizer': 'auto',\n",
            " 'pca__random_state': None,\n",
            " 'pca__svd_solver': 'auto',\n",
            " 'pca__tol': 0.0,\n",
            " 'pca__whiten': False,\n",
            " 'std': StandardScaler(),\n",
            " 'std__copy': True,\n",
            " 'std__with_mean': True,\n",
            " 'std__with_std': True,\n",
            " 'steps': [('std', StandardScaler()),\n",
            "           ('pca', PCA(n_components=2)),\n",
            "           ('decision_tree', DecisionTreeClassifier())],\n",
            " 'transform_input': None,\n",
            " 'verbose': True}\n"
          ]
        }
      ]
    },
    {
      "cell_type": "markdown",
      "source": [
        "# Teachable Machine\n",
        "\n",
        "1. images\n",
        "2. audio\n",
        "3. poses"
      ],
      "metadata": {
        "id": "_AtLz0RuOla8"
      }
    },
    {
      "cell_type": "code",
      "source": [],
      "metadata": {
        "id": "5g4-C0znMg9l"
      },
      "execution_count": null,
      "outputs": []
    }
  ]
}